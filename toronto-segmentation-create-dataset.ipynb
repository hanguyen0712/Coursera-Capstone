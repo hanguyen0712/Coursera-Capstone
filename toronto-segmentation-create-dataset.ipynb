{
 "cells": [
  {
   "cell_type": "markdown",
   "metadata": {},
   "source": [
    "### Create and clean the Toronto neighborhood dataset"
   ]
  },
  {
   "cell_type": "markdown",
   "metadata": {},
   "source": [
    "This dataset excludes any postcode that has an unassigned borough. Unassigned neighborhoods take the value of their borough.\n",
    "\n",
    "Source: https://en.wikipedia.org/wiki/List_of_postal_codes_of_Canada:_M"
   ]
  },
  {
   "cell_type": "code",
   "execution_count": 23,
   "metadata": {
    "collapsed": true
   },
   "outputs": [],
   "source": [
    "#import libraries\n",
    "import pandas as pd\n",
    "import numpy as np\n",
    "from bs4 import BeautifulSoup\n",
    "import requests"
   ]
  },
  {
   "cell_type": "code",
   "execution_count": 24,
   "metadata": {
    "collapsed": true,
    "scrolled": true
   },
   "outputs": [],
   "source": [
    "#scrape information from Wikipedia to build the Toronto dataset\n",
    "website_url = requests.get('https://en.wikipedia.org/wiki/List_of_postal_codes_of_Canada:_M').text\n",
    "soup = BeautifulSoup(website_url, 'lxml')\n",
    "#print out soup\n",
    "#print(soup.prettify())\n",
    "#extract table\n",
    "my_table = soup.find('table', {'class':'wikitable sortable'})\n",
    "my_table_string = pd.read_html(str(my_table))\n",
    "df = pd.DataFrame({'PostalCode':my_table_string[0][0], 'Borough':my_table_string[0][1], 'Neighborhood': my_table_string[0][2]}, columns = ['PostalCode', 'Borough', 'Neighborhood'])"
   ]
  },
  {
   "cell_type": "code",
   "execution_count": 25,
   "metadata": {
    "collapsed": true
   },
   "outputs": [],
   "source": [
    "### data cleaning\n",
    "\n",
    "#drop first row\n",
    "df = df.drop([0], axis = 0)\n",
    "#remove every row where \"borough\" = \"not assigned\"\n",
    "df.drop(df[df['Borough'].str.contains(\"Not assigned\")].index, inplace = True)"
   ]
  },
  {
   "cell_type": "code",
   "execution_count": 27,
   "metadata": {
    "collapsed": true
   },
   "outputs": [],
   "source": [
    "#group neighborhoods with the same postal ccode\n",
    "df = df.groupby(['PostalCode', 'Borough'])['Neighborhood'].apply(', '.join).reset_index()"
   ]
  },
  {
   "cell_type": "code",
   "execution_count": 46,
   "metadata": {
    "collapsed": true
   },
   "outputs": [],
   "source": [
    "#get index of \"Not assigned\" neighborhoods\n",
    "nassign = df.index[df['Neighborhood'] == \"Not assigned\"].tolist()\n",
    "#replace \"Not assigned neighborhoods with the name of their boroughs\n",
    "for index in nassign:\n",
    "    df['Neighborhood'].replace(df['Neighborhood'][index], df['Borough'][index], inplace = True)"
   ]
  },
  {
   "cell_type": "code",
   "execution_count": 52,
   "metadata": {
    "collapsed": true
   },
   "outputs": [],
   "source": [
    "#write csv file\n",
    "df.to_csv('toronto.csv')"
   ]
  },
  {
   "cell_type": "code",
   "execution_count": 51,
   "metadata": {},
   "outputs": [
    {
     "data": {
      "text/plain": [
       "(103, 3)"
      ]
     },
     "execution_count": 51,
     "metadata": {},
     "output_type": "execute_result"
    }
   ],
   "source": [
    "#get the shape of the dataset\n",
    "df.shape"
   ]
  }
 ],
 "metadata": {
  "kernelspec": {
   "display_name": "Python 3",
   "language": "python",
   "name": "python3"
  },
  "language_info": {
   "codemirror_mode": {
    "name": "ipython",
    "version": 3
   },
   "file_extension": ".py",
   "mimetype": "text/x-python",
   "name": "python",
   "nbconvert_exporter": "python",
   "pygments_lexer": "ipython3",
   "version": "3.6.7"
  }
 },
 "nbformat": 4,
 "nbformat_minor": 2
}
